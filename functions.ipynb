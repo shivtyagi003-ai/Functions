{
  "nbformat": 4,
  "nbformat_minor": 0,
  "metadata": {
    "colab": {
      "provenance": []
    },
    "kernelspec": {
      "name": "python3",
      "display_name": "Python 3"
    },
    "language_info": {
      "name": "python"
    }
  },
  "cells": [
    {
      "cell_type": "code",
      "execution_count": null,
      "metadata": {
        "id": "kTLV3rOb4lG0"
      },
      "outputs": [],
      "source": []
    },
    {
      "cell_type": "markdown",
      "source": [
        "1- What is the difference between a function and a method in python?\n",
        "- Function:- A block of code that's defined independently and can be called directly.\n",
        "Method:- A function that belongs to an objects/class and is called using that object.\n",
        "\n",
        "2- Explain the concept of function arguments and parameters in python?\n",
        "- Parameters are the names in the function definition.\n",
        "Arguments are the actual values you pass when calling it.\n",
        "\n",
        "3- What are the different ways to define and call a function in python?\n",
        "- In python you can create (\"define\") and use (\"call\") a function in a few different ways:-\n",
        "1- Regular def function\n",
        "2- Function with default/keyword function\n",
        "\n",
        "4- What is the purpose of the 'return' statement in a python function?\n",
        "- Purpose of the return Statement is to sends a value back to the caller and ends the function.\n",
        "\n",
        "5- What are the iterators in python and how do they differ from iterables?\n",
        "- Iterable:- Something you can loop through list,tuple,string.\n",
        "Iterator:- The object that actually produces the items one by one.\n",
        "\n",
        "6- Explain the concept of generators in python and how they are defined?\n",
        "- Generators are functions using yield to produce a sequence of results over time,rather than computing things all at once.\n",
        "\n",
        "7- What are the advantages of using generators over regular functions?\n",
        "- Generators are memory-efficient for handling large datasets,as they yield items one at a time and only when required.\n",
        "\n",
        "8- What is a lambda function in Python and when is it typically used?\n",
        "- A lambda function is a small anonymous function defined using lambda keyword,often used for quick,short tasks.\n",
        "\n",
        "9- Explain the purpose and usage of the `map()` function in Python?\n",
        "- map() applies a given function to all items in an iterable and returns a map object.\n",
        "\n",
        "10- What is the difference between `map()`, `reduce()`, and `filter()` functions in Python?\n",
        "- map()-applies a function to each item.\n",
        "reduce()-reduces iterable to single value.\n",
        "filter()-selects items meeting a condition."
      ],
      "metadata": {
        "id": "WuHU29084-qC"
      }
    },
    {
      "cell_type": "code",
      "source": [
        "  #Write a Python function that takes a list of numbers as input and returns the sum of all even numbers in the list?\n",
        "  def sum_of_even(numbers):\n",
        "    return sum(x for x in numbers if x % 2 ==0)"
      ],
      "metadata": {
        "id": "56MhtSwn9tud"
      },
      "execution_count": 1,
      "outputs": []
    },
    {
      "cell_type": "code",
      "source": [
        "#Create a Python function that accepts a string and returns the reverse of that string?\n",
        "def reverse_strings(s):\n",
        "  return s[::-1]"
      ],
      "metadata": {
        "id": "9pUpv2NF-LNK"
      },
      "execution_count": 2,
      "outputs": []
    },
    {
      "cell_type": "code",
      "source": [
        "# Implement a Python function that takes a list of integers and returns a new list containing the squares of each number?\n",
        "def square_list(nums):\n",
        "  return [x ** 2 for x in nums]"
      ],
      "metadata": {
        "id": "njwIkomL-dSW"
      },
      "execution_count": 3,
      "outputs": []
    },
    {
      "cell_type": "code",
      "source": [
        "# Write a Python function that checks if a given number is prime or not from 1 to 200?\n",
        "def is_prime(n):\n",
        "  if n<2:\n",
        "    return False\n",
        "    for i in range(2 , int(n**0.5)+1):\n",
        "      if n % i ==0:\n",
        "        return False\n",
        "        return true\n",
        "        primes = [x for x in range(1,201)if is_prime(x)]"
      ],
      "metadata": {
        "id": "HMM_15TN-vpI"
      },
      "execution_count": 4,
      "outputs": []
    },
    {
      "cell_type": "code",
      "source": [
        "#Write a generator function in Python that yields the powers of 2 up to a given exponent?\n",
        "def power_of_2(exp):\n",
        "  for i in range(exp+1):\n",
        "    yield 2**i"
      ],
      "metadata": {
        "id": "XcItORkd_Vmv"
      },
      "execution_count": 5,
      "outputs": []
    },
    {
      "cell_type": "code",
      "source": [
        "# Implement a generator function that reads a file line by line and yields each line as a string?\n",
        "def read_lines(filename):\n",
        "  with open(filename) as f:\n",
        "    for line in f:\n",
        "      yield line.strip()\n",
        ""
      ],
      "metadata": {
        "id": "faLQ3lxoAHpR"
      },
      "execution_count": 6,
      "outputs": []
    },
    {
      "cell_type": "code",
      "source": [
        "#Use a lambda function in Python to sort a list of tuples based on the second element of each tuple?\n",
        "data = [(2,5),(1,3),(4,1)]\n",
        "sorted_data = sorted(data,key=lambda x:x[1])"
      ],
      "metadata": {
        "id": "rXXCfbJIAwBs"
      },
      "execution_count": 7,
      "outputs": []
    },
    {
      "cell_type": "code",
      "source": [
        "#Write a Python program that uses `map()` to convert a list of temperatures from Celsius to Fahrenhei?\n",
        "def c_to_f(c):\n",
        "  return (c * 9/5) + 32\n",
        "  celsius = [0,20,100]\n",
        "  fahrenheit = list(map(c_to_f,celsius))"
      ],
      "metadata": {
        "id": "jgaezA_2BEuC"
      },
      "execution_count": 8,
      "outputs": []
    },
    {
      "cell_type": "code",
      "source": [
        "#Create a Python program that uses `filter()` to remove all the vowels from a given string?\n",
        "def remove_vowels(s):\n",
        "  return ''.join(filter(lambda x: x.lower()not in 'aeiou',s))"
      ],
      "metadata": {
        "id": "sL-gTwvoBbHx"
      },
      "execution_count": 9,
      "outputs": []
    },
    {
      "cell_type": "code",
      "source": [],
      "metadata": {
        "id": "prLh2T5aBtTH"
      },
      "execution_count": null,
      "outputs": []
    }
  ]
}